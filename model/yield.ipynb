{
 "cells": [
  {
   "cell_type": "code",
   "execution_count": 1,
   "id": "8ca55d72",
   "metadata": {},
   "outputs": [
    {
     "name": "stderr",
     "output_type": "stream",
     "text": [
      "C:\\Users\\jpinf\\Anaconda3\\lib\\site-packages\\numpy\\_distributor_init.py:32: UserWarning: loaded more than 1 DLL from .libs:\n",
      "C:\\Users\\jpinf\\Anaconda3\\lib\\site-packages\\numpy\\.libs\\libopenblas.PYQHXLVVQ7VESDPUVUADXEVJOBGHJPAY.gfortran-win_amd64.dll\n",
      "C:\\Users\\jpinf\\Anaconda3\\lib\\site-packages\\numpy\\.libs\\libopenblas.WCDJNK7YVMPZQ2ME2ZZHJJRJ3JIKNDB7.gfortran-win_amd64.dll\n",
      "  stacklevel=1)\n",
      "In C:\\Users\\jpinf\\Anaconda3\\lib\\site-packages\\matplotlib\\mpl-data\\stylelib\\_classic_test.mplstyle: \n",
      "The text.latex.unicode rcparam was deprecated in Matplotlib 3.0 and will be removed in 3.2.\n",
      "In C:\\Users\\jpinf\\Anaconda3\\lib\\site-packages\\matplotlib\\mpl-data\\stylelib\\_classic_test.mplstyle: \n",
      "The savefig.frameon rcparam was deprecated in Matplotlib 3.1 and will be removed in 3.3.\n",
      "In C:\\Users\\jpinf\\Anaconda3\\lib\\site-packages\\matplotlib\\mpl-data\\stylelib\\_classic_test.mplstyle: \n",
      "The pgf.debug rcparam was deprecated in Matplotlib 3.0 and will be removed in 3.2.\n",
      "In C:\\Users\\jpinf\\Anaconda3\\lib\\site-packages\\matplotlib\\mpl-data\\stylelib\\_classic_test.mplstyle: \n",
      "The verbose.level rcparam was deprecated in Matplotlib 3.1 and will be removed in 3.3.\n",
      "In C:\\Users\\jpinf\\Anaconda3\\lib\\site-packages\\matplotlib\\mpl-data\\stylelib\\_classic_test.mplstyle: \n",
      "The verbose.fileo rcparam was deprecated in Matplotlib 3.1 and will be removed in 3.3.\n"
     ]
    }
   ],
   "source": [
    "import pandas as pd\n",
    "import numpy as np\n",
    "import matplotlib.pyplot as plt\n",
    "import seaborn as sns"
   ]
  },
  {
   "cell_type": "code",
   "execution_count": 2,
   "id": "d33fc508",
   "metadata": {},
   "outputs": [],
   "source": [
    "train = pd.read_csv('crop_yield.csv')"
   ]
  },
  {
   "cell_type": "code",
   "execution_count": 3,
   "id": "52093561",
   "metadata": {},
   "outputs": [
    {
     "data": {
      "text/html": [
       "<div>\n",
       "<style scoped>\n",
       "    .dataframe tbody tr th:only-of-type {\n",
       "        vertical-align: middle;\n",
       "    }\n",
       "\n",
       "    .dataframe tbody tr th {\n",
       "        vertical-align: top;\n",
       "    }\n",
       "\n",
       "    .dataframe thead th {\n",
       "        text-align: right;\n",
       "    }\n",
       "</style>\n",
       "<table border=\"1\" class=\"dataframe\">\n",
       "  <thead>\n",
       "    <tr style=\"text-align: right;\">\n",
       "      <th></th>\n",
       "      <th>State_Name</th>\n",
       "      <th>Season</th>\n",
       "      <th>Crop</th>\n",
       "      <th>Area</th>\n",
       "      <th>Production</th>\n",
       "      <th>soil_type</th>\n",
       "    </tr>\n",
       "  </thead>\n",
       "  <tbody>\n",
       "    <tr>\n",
       "      <th>0</th>\n",
       "      <td>Andaman and Nicobar Islands</td>\n",
       "      <td>Kharif</td>\n",
       "      <td>Arecanut</td>\n",
       "      <td>1254.0</td>\n",
       "      <td>2000.00</td>\n",
       "      <td>Laterite</td>\n",
       "    </tr>\n",
       "    <tr>\n",
       "      <th>1</th>\n",
       "      <td>Andaman and Nicobar Islands</td>\n",
       "      <td>Kharif</td>\n",
       "      <td>Arecanut</td>\n",
       "      <td>1254.0</td>\n",
       "      <td>2061.00</td>\n",
       "      <td>Laterite</td>\n",
       "    </tr>\n",
       "    <tr>\n",
       "      <th>2</th>\n",
       "      <td>Andaman and Nicobar Islands</td>\n",
       "      <td>Whole Year</td>\n",
       "      <td>Arecanut</td>\n",
       "      <td>1258.0</td>\n",
       "      <td>2083.00</td>\n",
       "      <td>Laterite</td>\n",
       "    </tr>\n",
       "    <tr>\n",
       "      <th>3</th>\n",
       "      <td>Andaman and Nicobar Islands</td>\n",
       "      <td>Whole Year</td>\n",
       "      <td>Arecanut</td>\n",
       "      <td>1261.0</td>\n",
       "      <td>1525.00</td>\n",
       "      <td>Laterite</td>\n",
       "    </tr>\n",
       "    <tr>\n",
       "      <th>4</th>\n",
       "      <td>Andaman and Nicobar Islands</td>\n",
       "      <td>Whole Year</td>\n",
       "      <td>Arecanut</td>\n",
       "      <td>1264.7</td>\n",
       "      <td>805.85</td>\n",
       "      <td>Laterite</td>\n",
       "    </tr>\n",
       "    <tr>\n",
       "      <th>...</th>\n",
       "      <td>...</td>\n",
       "      <td>...</td>\n",
       "      <td>...</td>\n",
       "      <td>...</td>\n",
       "      <td>...</td>\n",
       "      <td>...</td>\n",
       "    </tr>\n",
       "    <tr>\n",
       "      <th>94370</th>\n",
       "      <td>West Bengal</td>\n",
       "      <td>Whole Year</td>\n",
       "      <td>Turmeric</td>\n",
       "      <td>270.0</td>\n",
       "      <td>166.00</td>\n",
       "      <td>Loamy</td>\n",
       "    </tr>\n",
       "    <tr>\n",
       "      <th>94371</th>\n",
       "      <td>West Bengal</td>\n",
       "      <td>Whole Year</td>\n",
       "      <td>Turmeric</td>\n",
       "      <td>284.0</td>\n",
       "      <td>229.00</td>\n",
       "      <td>Loamy</td>\n",
       "    </tr>\n",
       "    <tr>\n",
       "      <th>94372</th>\n",
       "      <td>West Bengal</td>\n",
       "      <td>Whole Year</td>\n",
       "      <td>Turmeric</td>\n",
       "      <td>294.0</td>\n",
       "      <td>261.00</td>\n",
       "      <td>Loamy</td>\n",
       "    </tr>\n",
       "    <tr>\n",
       "      <th>94373</th>\n",
       "      <td>West Bengal</td>\n",
       "      <td>Whole Year</td>\n",
       "      <td>Turmeric</td>\n",
       "      <td>289.0</td>\n",
       "      <td>178.00</td>\n",
       "      <td>Loamy</td>\n",
       "    </tr>\n",
       "    <tr>\n",
       "      <th>94374</th>\n",
       "      <td>West Bengal</td>\n",
       "      <td>Whole Year</td>\n",
       "      <td>Turmeric</td>\n",
       "      <td>289.0</td>\n",
       "      <td>378.00</td>\n",
       "      <td>Loamy</td>\n",
       "    </tr>\n",
       "  </tbody>\n",
       "</table>\n",
       "<p>94375 rows × 6 columns</p>\n",
       "</div>"
      ],
      "text/plain": [
       "                        State_Name       Season      Crop    Area  Production  \\\n",
       "0      Andaman and Nicobar Islands  Kharif       Arecanut  1254.0     2000.00   \n",
       "1      Andaman and Nicobar Islands  Kharif       Arecanut  1254.0     2061.00   \n",
       "2      Andaman and Nicobar Islands  Whole Year   Arecanut  1258.0     2083.00   \n",
       "3      Andaman and Nicobar Islands  Whole Year   Arecanut  1261.0     1525.00   \n",
       "4      Andaman and Nicobar Islands  Whole Year   Arecanut  1264.7      805.85   \n",
       "...                            ...          ...       ...     ...         ...   \n",
       "94370                  West Bengal  Whole Year   Turmeric   270.0      166.00   \n",
       "94371                  West Bengal  Whole Year   Turmeric   284.0      229.00   \n",
       "94372                  West Bengal  Whole Year   Turmeric   294.0      261.00   \n",
       "94373                  West Bengal  Whole Year   Turmeric   289.0      178.00   \n",
       "94374                  West Bengal  Whole Year   Turmeric   289.0      378.00   \n",
       "\n",
       "       soil_type  \n",
       "0       Laterite  \n",
       "1       Laterite  \n",
       "2       Laterite  \n",
       "3       Laterite  \n",
       "4       Laterite  \n",
       "...          ...  \n",
       "94370      Loamy  \n",
       "94371      Loamy  \n",
       "94372      Loamy  \n",
       "94373      Loamy  \n",
       "94374      Loamy  \n",
       "\n",
       "[94375 rows x 6 columns]"
      ]
     },
     "execution_count": 3,
     "metadata": {},
     "output_type": "execute_result"
    }
   ],
   "source": [
    "train"
   ]
  },
  {
   "cell_type": "code",
   "execution_count": 4,
   "id": "a14a543f",
   "metadata": {},
   "outputs": [
    {
     "data": {
      "text/plain": [
       "State_Name     object\n",
       "Season         object\n",
       "Crop           object\n",
       "Area          float64\n",
       "Production    float64\n",
       "soil_type      object\n",
       "dtype: object"
      ]
     },
     "execution_count": 4,
     "metadata": {},
     "output_type": "execute_result"
    }
   ],
   "source": [
    "train.dtypes"
   ]
  },
  {
   "cell_type": "code",
   "execution_count": 5,
   "id": "6461dfc7",
   "metadata": {},
   "outputs": [
    {
     "data": {
      "text/plain": [
       "State_Name    0\n",
       "Season        0\n",
       "Crop          0\n",
       "Area          0\n",
       "Production    0\n",
       "soil_type     0\n",
       "dtype: int64"
      ]
     },
     "execution_count": 5,
     "metadata": {},
     "output_type": "execute_result"
    }
   ],
   "source": [
    "train.isnull().sum()"
   ]
  },
  {
   "cell_type": "code",
   "execution_count": 6,
   "id": "ee133a6d",
   "metadata": {},
   "outputs": [
    {
     "data": {
      "text/plain": [
       "array(['Andaman and Nicobar Islands', 'Andhra Pradesh', 'Assam', 'Goa',\n",
       "       'Karnataka', 'Kerala', 'Meghalaya', 'Puducherry', 'Tamil Nadu',\n",
       "       'West Bengal', 'Bihar', 'Chhattisgarh', 'Dadra and Nagar Haveli',\n",
       "       'Gujarat', 'Haryana', 'Madhya Pradesh', 'Maharashtra', 'Manipur',\n",
       "       'Rajasthan', 'Telangana ', 'Uttar Pradesh', 'Arunachal Pradesh',\n",
       "       'Himachal Pradesh', 'Jammu and Kashmir ', 'Nagaland', 'Odisha',\n",
       "       'Uttarakhand', 'Mizoram', 'Punjab', 'Tripura', 'Chandigarh',\n",
       "       'Jharkhand', 'Sikkim'], dtype=object)"
      ]
     },
     "execution_count": 6,
     "metadata": {},
     "output_type": "execute_result"
    }
   ],
   "source": [
    "train['State_Name'].unique()"
   ]
  },
  {
   "cell_type": "code",
   "execution_count": 10,
   "id": "f94f21fb",
   "metadata": {},
   "outputs": [
    {
     "data": {
      "text/plain": [
       "array(['Kharif     ', 'Whole Year ', 'Rabi       ', 'Winter     ',\n",
       "       'Autumn     ', 'Summer     '], dtype=object)"
      ]
     },
     "execution_count": 10,
     "metadata": {},
     "output_type": "execute_result"
    }
   ],
   "source": [
    "train['Season'].unique()"
   ]
  },
  {
   "cell_type": "code",
   "execution_count": 11,
   "id": "6cabd727",
   "metadata": {},
   "outputs": [
    {
     "data": {
      "text/plain": [
       "array([0, 1, 2, 3, 4, 5, 6, 7, 8, 9, 10, 11, 15, 12, 13, 14], dtype=object)"
      ]
     },
     "execution_count": 11,
     "metadata": {},
     "output_type": "execute_result"
    }
   ],
   "source": [
    "train['Crop'].unique()"
   ]
  },
  {
   "cell_type": "code",
   "execution_count": 12,
   "id": "5ac66bc6",
   "metadata": {},
   "outputs": [
    {
     "data": {
      "text/plain": [
       "array([' Laterite', 'Clayey', ' loamy', 'Sandy ', 'Black', 'Sandy',\n",
       "       'Alluvial', 'Loamy'], dtype=object)"
      ]
     },
     "execution_count": 12,
     "metadata": {},
     "output_type": "execute_result"
    }
   ],
   "source": [
    "train['soil_type'].unique()"
   ]
  },
  {
   "cell_type": "code",
   "execution_count": 13,
   "id": "d258098d",
   "metadata": {},
   "outputs": [],
   "source": [
    "plt.rcParams[\"figure.figsize\"] = (30,15)"
   ]
  },
  {
   "cell_type": "code",
   "execution_count": 14,
   "id": "8457fa2f",
   "metadata": {},
   "outputs": [],
   "source": [
    "train.loc[train['Crop']=='Arecanut', 'Crop'] = 0\n",
    "train.loc[train['Crop']=='Banana', 'Crop'] =1\n",
    "train.loc[train['Crop']=='Dry chillies', 'Crop'] =2\n",
    "train.loc[train['Crop']=='Coconut ', 'Crop'] = 3\n",
    "train.loc[train['Crop']=='Cotton(lint)', 'Crop'] =4\n",
    "train.loc[train['Crop']=='Dry ginger', 'Crop'] = 5\n",
    "train.loc[train['Crop']=='Groundnut', 'Crop'] =6\n",
    "train.loc[train['Crop']=='Maize', 'Crop'] = 7\n",
    "train.loc[train['Crop']=='Moong(Green Gram)', 'Crop'] =8\n",
    "train.loc[train['Crop']=='Onion', 'Crop'] = 9\n",
    "train.loc[train['Crop']=='Paddy', 'Crop'] =10\n",
    "train.loc[train['Crop']=='Ragi', 'Crop'] =11\n",
    "train.loc[train['Crop']=='Sugarcane', 'Crop'] =12\n",
    "train.loc[train['Crop']=='Tobacco', 'Crop'] =13\n",
    "train.loc[train['Crop']=='Turmeric', 'Crop'] =14\n",
    "train.loc[train['Crop']=='Rice', 'Crop'] =15\n",
    "\n"
   ]
  },
  {
   "cell_type": "code",
   "execution_count": 15,
   "id": "5f13a17c",
   "metadata": {},
   "outputs": [],
   "source": [
    "train.loc[train['soil_type']=='Sandy', 'soil_type'] = 0\n",
    "train.loc[train['soil_type']=='Sandy ', 'soil_type'] = 0\n",
    "train.loc[train['soil_type']=='Red', 'soil_type'] =1\n",
    "train.loc[train['soil_type']=='Black', 'soil_type'] =2\n",
    "train.loc[train['soil_type']=='Clayey', 'soil_type'] = 3\n",
    "train.loc[train['soil_type']=='Alluvial', 'soil_type'] =4\n",
    "train.loc[train['soil_type']=='Loamy', 'soil_type'] = 5\n",
    "train.loc[train['soil_type']==' loamy', 'soil_type'] = 5\n",
    "\n",
    "train.loc[train['soil_type']==' Laterite', 'soil_type'] = 6"
   ]
  },
  {
   "cell_type": "code",
   "execution_count": 16,
   "id": "bf44cc92",
   "metadata": {},
   "outputs": [
    {
     "data": {
      "text/plain": [
       "array(['Andaman and Nicobar Islands', 'Andhra Pradesh', 'Assam', 'Goa',\n",
       "       'Karnataka', 'Kerala', 'Meghalaya', 'Puducherry', 'Tamil Nadu',\n",
       "       'West Bengal', 'Bihar', 'Chhattisgarh', 'Dadra and Nagar Haveli',\n",
       "       'Gujarat', 'Haryana', 'Madhya Pradesh', 'Maharashtra', 'Manipur',\n",
       "       'Rajasthan', 'Telangana ', 'Uttar Pradesh', 'Arunachal Pradesh',\n",
       "       'Himachal Pradesh', 'Jammu and Kashmir ', 'Nagaland', 'Odisha',\n",
       "       'Uttarakhand', 'Mizoram', 'Punjab', 'Tripura', 'Chandigarh',\n",
       "       'Jharkhand', 'Sikkim'], dtype=object)"
      ]
     },
     "execution_count": 16,
     "metadata": {},
     "output_type": "execute_result"
    }
   ],
   "source": [
    "train['State_Name'].unique()"
   ]
  },
  {
   "cell_type": "code",
   "execution_count": 17,
   "id": "6c3d9b91",
   "metadata": {},
   "outputs": [],
   "source": [
    "train.loc[train['State_Name']=='Andaman and Nicobar Islands', 'State_Name'] = 0\n",
    "train.loc[train['State_Name']=='Andhra Pradesh', 'State_Name'] =1\n",
    "train.loc[train['State_Name']=='Assam', 'State_Name'] =3\n",
    "train.loc[train['State_Name']=='Goa', 'State_Name'] =4\n",
    "train.loc[train['State_Name']=='Karnataka', 'State_Name'] =5\n",
    "train.loc[train['State_Name']=='Kerala', 'State_Name'] =6\n",
    "train.loc[train['State_Name']=='Meghalaya', 'State_Name'] =7\n",
    "train.loc[train['State_Name']=='Puducherry', 'State_Name'] =8\n",
    "train.loc[train['State_Name']=='Tamil Nadu', 'State_Name'] =9\n",
    "train.loc[train['State_Name']=='West Bengal', 'State_Name'] =10\n",
    "train.loc[train['State_Name']=='Bihar', 'State_Name'] =11\n",
    "train.loc[train['State_Name']=='Chhattisgarh', 'State_Name'] =12\n",
    "train.loc[train['State_Name']=='Dadra and Nagar Haveli', 'State_Name'] =13\n",
    "train.loc[train['State_Name']=='Gujarat', 'State_Name'] =14\n",
    "train.loc[train['State_Name']=='Haryana', 'State_Name'] =15\n",
    "train.loc[train['State_Name']=='Madhya Pradesh', 'State_Name'] =16\n",
    "train.loc[train['State_Name']=='Maharashtra', 'State_Name'] =17\n",
    "train.loc[train['State_Name']=='Manipur', 'State_Name'] =18\n",
    "train.loc[train['State_Name']=='Rajasthan', 'State_Name'] =19\n",
    "train.loc[train['State_Name']=='Telangana ', 'State_Name'] =20\n",
    "train.loc[train['State_Name']=='Uttar Pradesh', 'State_Name'] =21\n",
    "train.loc[train['State_Name']=='Arunachal Pradesh', 'State_Name'] =22\n",
    "train.loc[train['State_Name']=='Himachal Pradesh', 'State_Name'] =23\n",
    "train.loc[train['State_Name']=='Jammu and Kashmir ', 'State_Name'] =24\n",
    "train.loc[train['State_Name']=='Nagaland', 'State_Name'] =25\n",
    "train.loc[train['State_Name']=='Odisha', 'State_Name'] =26\n",
    "train.loc[train['State_Name']=='Uttarakhand', 'State_Name'] =27\n",
    "train.loc[train['State_Name']=='Mizoram', 'State_Name'] =28\n",
    "train.loc[train['State_Name']=='Punjab', 'State_Name'] =29\n",
    "train.loc[train['State_Name']=='Tripura', 'State_Name'] =30\n",
    "train.loc[train['State_Name']=='Chandigarh', 'State_Name'] =31\n",
    "train.loc[train['State_Name']=='Jharkhand', 'State_Name'] =32\n",
    "train.loc[train['State_Name']=='Sikkim', 'State_Name'] =33          \n",
    "\n",
    "\n",
    "\n",
    "\n",
    "\n",
    "\n",
    "\n",
    "\n",
    "\n"
   ]
  },
  {
   "cell_type": "code",
   "execution_count": 18,
   "id": "90a9015c",
   "metadata": {},
   "outputs": [
    {
     "data": {
      "text/plain": [
       "array([0, 1, 3, 4, 5, 6, 7, 8, 9, 10, 11, 12, 13, 14, 15, 16, 17, 18, 19,\n",
       "       20, 21, 22, 23, 24, 25, 26, 27, 28, 29, 30, 31, 32, 33],\n",
       "      dtype=object)"
      ]
     },
     "execution_count": 18,
     "metadata": {},
     "output_type": "execute_result"
    }
   ],
   "source": [
    "train['State_Name'].unique()"
   ]
  },
  {
   "cell_type": "code",
   "execution_count": 19,
   "id": "559ed6b4",
   "metadata": {},
   "outputs": [
    {
     "data": {
      "text/html": [
       "<div>\n",
       "<style scoped>\n",
       "    .dataframe tbody tr th:only-of-type {\n",
       "        vertical-align: middle;\n",
       "    }\n",
       "\n",
       "    .dataframe tbody tr th {\n",
       "        vertical-align: top;\n",
       "    }\n",
       "\n",
       "    .dataframe thead th {\n",
       "        text-align: right;\n",
       "    }\n",
       "</style>\n",
       "<table border=\"1\" class=\"dataframe\">\n",
       "  <thead>\n",
       "    <tr style=\"text-align: right;\">\n",
       "      <th></th>\n",
       "      <th>State_Name</th>\n",
       "      <th>Season</th>\n",
       "      <th>Crop</th>\n",
       "      <th>Area</th>\n",
       "      <th>Production</th>\n",
       "      <th>soil_type</th>\n",
       "    </tr>\n",
       "  </thead>\n",
       "  <tbody>\n",
       "    <tr>\n",
       "      <th>0</th>\n",
       "      <td>0</td>\n",
       "      <td>Kharif</td>\n",
       "      <td>0</td>\n",
       "      <td>1254.0</td>\n",
       "      <td>2000.00</td>\n",
       "      <td>6</td>\n",
       "    </tr>\n",
       "    <tr>\n",
       "      <th>1</th>\n",
       "      <td>0</td>\n",
       "      <td>Kharif</td>\n",
       "      <td>0</td>\n",
       "      <td>1254.0</td>\n",
       "      <td>2061.00</td>\n",
       "      <td>6</td>\n",
       "    </tr>\n",
       "    <tr>\n",
       "      <th>2</th>\n",
       "      <td>0</td>\n",
       "      <td>Whole Year</td>\n",
       "      <td>0</td>\n",
       "      <td>1258.0</td>\n",
       "      <td>2083.00</td>\n",
       "      <td>6</td>\n",
       "    </tr>\n",
       "    <tr>\n",
       "      <th>3</th>\n",
       "      <td>0</td>\n",
       "      <td>Whole Year</td>\n",
       "      <td>0</td>\n",
       "      <td>1261.0</td>\n",
       "      <td>1525.00</td>\n",
       "      <td>6</td>\n",
       "    </tr>\n",
       "    <tr>\n",
       "      <th>4</th>\n",
       "      <td>0</td>\n",
       "      <td>Whole Year</td>\n",
       "      <td>0</td>\n",
       "      <td>1264.7</td>\n",
       "      <td>805.85</td>\n",
       "      <td>6</td>\n",
       "    </tr>\n",
       "    <tr>\n",
       "      <th>...</th>\n",
       "      <td>...</td>\n",
       "      <td>...</td>\n",
       "      <td>...</td>\n",
       "      <td>...</td>\n",
       "      <td>...</td>\n",
       "      <td>...</td>\n",
       "    </tr>\n",
       "    <tr>\n",
       "      <th>94370</th>\n",
       "      <td>10</td>\n",
       "      <td>Whole Year</td>\n",
       "      <td>14</td>\n",
       "      <td>270.0</td>\n",
       "      <td>166.00</td>\n",
       "      <td>5</td>\n",
       "    </tr>\n",
       "    <tr>\n",
       "      <th>94371</th>\n",
       "      <td>10</td>\n",
       "      <td>Whole Year</td>\n",
       "      <td>14</td>\n",
       "      <td>284.0</td>\n",
       "      <td>229.00</td>\n",
       "      <td>5</td>\n",
       "    </tr>\n",
       "    <tr>\n",
       "      <th>94372</th>\n",
       "      <td>10</td>\n",
       "      <td>Whole Year</td>\n",
       "      <td>14</td>\n",
       "      <td>294.0</td>\n",
       "      <td>261.00</td>\n",
       "      <td>5</td>\n",
       "    </tr>\n",
       "    <tr>\n",
       "      <th>94373</th>\n",
       "      <td>10</td>\n",
       "      <td>Whole Year</td>\n",
       "      <td>14</td>\n",
       "      <td>289.0</td>\n",
       "      <td>178.00</td>\n",
       "      <td>5</td>\n",
       "    </tr>\n",
       "    <tr>\n",
       "      <th>94374</th>\n",
       "      <td>10</td>\n",
       "      <td>Whole Year</td>\n",
       "      <td>14</td>\n",
       "      <td>289.0</td>\n",
       "      <td>378.00</td>\n",
       "      <td>5</td>\n",
       "    </tr>\n",
       "  </tbody>\n",
       "</table>\n",
       "<p>94375 rows × 6 columns</p>\n",
       "</div>"
      ],
      "text/plain": [
       "      State_Name       Season Crop    Area  Production soil_type\n",
       "0              0  Kharif         0  1254.0     2000.00         6\n",
       "1              0  Kharif         0  1254.0     2061.00         6\n",
       "2              0  Whole Year     0  1258.0     2083.00         6\n",
       "3              0  Whole Year     0  1261.0     1525.00         6\n",
       "4              0  Whole Year     0  1264.7      805.85         6\n",
       "...          ...          ...  ...     ...         ...       ...\n",
       "94370         10  Whole Year    14   270.0      166.00         5\n",
       "94371         10  Whole Year    14   284.0      229.00         5\n",
       "94372         10  Whole Year    14   294.0      261.00         5\n",
       "94373         10  Whole Year    14   289.0      178.00         5\n",
       "94374         10  Whole Year    14   289.0      378.00         5\n",
       "\n",
       "[94375 rows x 6 columns]"
      ]
     },
     "execution_count": 19,
     "metadata": {},
     "output_type": "execute_result"
    }
   ],
   "source": [
    "train"
   ]
  },
  {
   "cell_type": "code",
   "execution_count": 20,
   "id": "dfe4f850",
   "metadata": {},
   "outputs": [
    {
     "data": {
      "text/plain": [
       "array([0, 1, 2, 3, 4, 5, 6, 7, 8, 9, 10, 11, 15, 12, 13, 14], dtype=object)"
      ]
     },
     "execution_count": 20,
     "metadata": {},
     "output_type": "execute_result"
    }
   ],
   "source": [
    "train['Crop'].unique()"
   ]
  },
  {
   "cell_type": "code",
   "execution_count": 21,
   "id": "cc404563",
   "metadata": {},
   "outputs": [
    {
     "data": {
      "text/plain": [
       "array([6, 3, 5, 0, 2, 4], dtype=object)"
      ]
     },
     "execution_count": 21,
     "metadata": {},
     "output_type": "execute_result"
    }
   ],
   "source": [
    "train['soil_type'].unique()"
   ]
  },
  {
   "cell_type": "code",
   "execution_count": 22,
   "id": "4071b3e0",
   "metadata": {},
   "outputs": [],
   "source": [
    "X=train[[\"State_Name\",\"Crop\",\"Area\",\"soil_type\"]]\n",
    "y=train[\"Production\"]"
   ]
  },
  {
   "cell_type": "code",
   "execution_count": 23,
   "id": "c15dcb47",
   "metadata": {},
   "outputs": [],
   "source": [
    "from sklearn.model_selection import train_test_split"
   ]
  },
  {
   "cell_type": "code",
   "execution_count": 24,
   "id": "04abde25",
   "metadata": {},
   "outputs": [],
   "source": [
    "x_train,x_test,y_train,y_test=train_test_split(X,y,test_size=0.2,random_state=0)"
   ]
  },
  {
   "cell_type": "code",
   "execution_count": 25,
   "id": "4a2e87a6",
   "metadata": {},
   "outputs": [
    {
     "data": {
      "text/plain": [
       "RandomForestRegressor(bootstrap=True, criterion='mse', max_depth=None,\n",
       "                      max_features='auto', max_leaf_nodes=None,\n",
       "                      min_impurity_decrease=0.0, min_impurity_split=None,\n",
       "                      min_samples_leaf=1, min_samples_split=2,\n",
       "                      min_weight_fraction_leaf=0.0, n_estimators=16,\n",
       "                      n_jobs=None, oob_score=False, random_state=0, verbose=0,\n",
       "                      warm_start=False)"
      ]
     },
     "execution_count": 25,
     "metadata": {},
     "output_type": "execute_result"
    }
   ],
   "source": [
    "from sklearn.ensemble import RandomForestRegressor\n",
    "\n",
    "regressor = RandomForestRegressor(n_estimators=16, random_state=0)\n",
    "regressor.fit(X,y)"
   ]
  },
  {
   "cell_type": "code",
   "execution_count": 26,
   "id": "c8a1aea8",
   "metadata": {},
   "outputs": [
    {
     "name": "stdout",
     "output_type": "stream",
     "text": [
      "0.9684092471941279\n"
     ]
    }
   ],
   "source": [
    "print(regressor.score(X,y))"
   ]
  },
  {
   "cell_type": "code",
   "execution_count": 27,
   "id": "cfbf7d37",
   "metadata": {},
   "outputs": [
    {
     "data": {
      "text/html": [
       "<div>\n",
       "<style scoped>\n",
       "    .dataframe tbody tr th:only-of-type {\n",
       "        vertical-align: middle;\n",
       "    }\n",
       "\n",
       "    .dataframe tbody tr th {\n",
       "        vertical-align: top;\n",
       "    }\n",
       "\n",
       "    .dataframe thead th {\n",
       "        text-align: right;\n",
       "    }\n",
       "</style>\n",
       "<table border=\"1\" class=\"dataframe\">\n",
       "  <thead>\n",
       "    <tr style=\"text-align: right;\">\n",
       "      <th></th>\n",
       "      <th>State_Name</th>\n",
       "      <th>Crop</th>\n",
       "      <th>Area</th>\n",
       "      <th>soil_type</th>\n",
       "    </tr>\n",
       "  </thead>\n",
       "  <tbody>\n",
       "    <tr>\n",
       "      <th>0</th>\n",
       "      <td>0</td>\n",
       "      <td>0</td>\n",
       "      <td>1254.0</td>\n",
       "      <td>6</td>\n",
       "    </tr>\n",
       "    <tr>\n",
       "      <th>1</th>\n",
       "      <td>0</td>\n",
       "      <td>0</td>\n",
       "      <td>1254.0</td>\n",
       "      <td>6</td>\n",
       "    </tr>\n",
       "    <tr>\n",
       "      <th>2</th>\n",
       "      <td>0</td>\n",
       "      <td>0</td>\n",
       "      <td>1258.0</td>\n",
       "      <td>6</td>\n",
       "    </tr>\n",
       "    <tr>\n",
       "      <th>3</th>\n",
       "      <td>0</td>\n",
       "      <td>0</td>\n",
       "      <td>1261.0</td>\n",
       "      <td>6</td>\n",
       "    </tr>\n",
       "    <tr>\n",
       "      <th>4</th>\n",
       "      <td>0</td>\n",
       "      <td>0</td>\n",
       "      <td>1264.7</td>\n",
       "      <td>6</td>\n",
       "    </tr>\n",
       "    <tr>\n",
       "      <th>...</th>\n",
       "      <td>...</td>\n",
       "      <td>...</td>\n",
       "      <td>...</td>\n",
       "      <td>...</td>\n",
       "    </tr>\n",
       "    <tr>\n",
       "      <th>94370</th>\n",
       "      <td>10</td>\n",
       "      <td>14</td>\n",
       "      <td>270.0</td>\n",
       "      <td>5</td>\n",
       "    </tr>\n",
       "    <tr>\n",
       "      <th>94371</th>\n",
       "      <td>10</td>\n",
       "      <td>14</td>\n",
       "      <td>284.0</td>\n",
       "      <td>5</td>\n",
       "    </tr>\n",
       "    <tr>\n",
       "      <th>94372</th>\n",
       "      <td>10</td>\n",
       "      <td>14</td>\n",
       "      <td>294.0</td>\n",
       "      <td>5</td>\n",
       "    </tr>\n",
       "    <tr>\n",
       "      <th>94373</th>\n",
       "      <td>10</td>\n",
       "      <td>14</td>\n",
       "      <td>289.0</td>\n",
       "      <td>5</td>\n",
       "    </tr>\n",
       "    <tr>\n",
       "      <th>94374</th>\n",
       "      <td>10</td>\n",
       "      <td>14</td>\n",
       "      <td>289.0</td>\n",
       "      <td>5</td>\n",
       "    </tr>\n",
       "  </tbody>\n",
       "</table>\n",
       "<p>94375 rows × 4 columns</p>\n",
       "</div>"
      ],
      "text/plain": [
       "      State_Name Crop    Area soil_type\n",
       "0              0    0  1254.0         6\n",
       "1              0    0  1254.0         6\n",
       "2              0    0  1258.0         6\n",
       "3              0    0  1261.0         6\n",
       "4              0    0  1264.7         6\n",
       "...          ...  ...     ...       ...\n",
       "94370         10   14   270.0         5\n",
       "94371         10   14   284.0         5\n",
       "94372         10   14   294.0         5\n",
       "94373         10   14   289.0         5\n",
       "94374         10   14   289.0         5\n",
       "\n",
       "[94375 rows x 4 columns]"
      ]
     },
     "execution_count": 27,
     "metadata": {},
     "output_type": "execute_result"
    }
   ],
   "source": [
    "X"
   ]
  },
  {
   "cell_type": "code",
   "execution_count": 28,
   "id": "766e9ddc",
   "metadata": {},
   "outputs": [
    {
     "data": {
      "text/plain": [
       "0        2000.00\n",
       "1        2061.00\n",
       "2        2083.00\n",
       "3        1525.00\n",
       "4         805.85\n",
       "          ...   \n",
       "94370     166.00\n",
       "94371     229.00\n",
       "94372     261.00\n",
       "94373     178.00\n",
       "94374     378.00\n",
       "Name: Production, Length: 94375, dtype: float64"
      ]
     },
     "execution_count": 28,
     "metadata": {},
     "output_type": "execute_result"
    }
   ],
   "source": [
    "y"
   ]
  },
  {
   "cell_type": "code",
   "execution_count": 29,
   "id": "f699fc02",
   "metadata": {},
   "outputs": [],
   "source": [
    "predictionss=regressor.predict([[0,0,1254.0,6]])\n",
    "pred=format(int(predictionss[0]))"
   ]
  },
  {
   "cell_type": "code",
   "execution_count": 30,
   "id": "0af50f6e",
   "metadata": {},
   "outputs": [
    {
     "data": {
      "text/plain": [
       "'2024'"
      ]
     },
     "execution_count": 30,
     "metadata": {},
     "output_type": "execute_result"
    }
   ],
   "source": [
    "pred"
   ]
  },
  {
   "cell_type": "code",
   "execution_count": 31,
   "id": "7aee0097",
   "metadata": {},
   "outputs": [
    {
     "data": {
      "text/plain": [
       "1.645933014354067"
      ]
     },
     "execution_count": 31,
     "metadata": {},
     "output_type": "execute_result"
    }
   ],
   "source": [
    "2064/1254.0"
   ]
  },
  {
   "cell_type": "code",
   "execution_count": 32,
   "id": "dc5b4246",
   "metadata": {},
   "outputs": [],
   "source": [
    "import pickle\n",
    "\n",
    "pickle.dump(regressor,open('yield.pkl','wb'))"
   ]
  },
  {
   "cell_type": "code",
   "execution_count": 33,
   "id": "b61d8210",
   "metadata": {},
   "outputs": [],
   "source": [
    "model = pickle.load(open('yield.pkl', 'rb'))"
   ]
  },
  {
   "cell_type": "code",
   "execution_count": null,
   "id": "063a0b59",
   "metadata": {},
   "outputs": [],
   "source": []
  }
 ],
 "metadata": {
  "kernelspec": {
   "display_name": "Python 3 (ipykernel)",
   "language": "python",
   "name": "python3"
  },
  "language_info": {
   "codemirror_mode": {
    "name": "ipython",
    "version": 3
   },
   "file_extension": ".py",
   "mimetype": "text/x-python",
   "name": "python",
   "nbconvert_exporter": "python",
   "pygments_lexer": "ipython3",
   "version": "3.8.0"
  }
 },
 "nbformat": 4,
 "nbformat_minor": 5
}
